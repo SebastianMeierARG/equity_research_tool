{
 "cells": [
  {
   "cell_type": "markdown",
   "metadata": {},
   "source": [
    "### Retrival and Streamlit app\n"
   ]
  },
  {
   "cell_type": "code",
   "execution_count": 1,
   "metadata": {},
   "outputs": [],
   "source": [
    "# pip install langchain sentence-transformers faiss-cpu unstructured\n"
   ]
  },
  {
   "cell_type": "code",
   "execution_count": 2,
   "metadata": {},
   "outputs": [
    {
     "data": {
      "text/plain": [
       "43"
      ]
     },
     "execution_count": 2,
     "metadata": {},
     "output_type": "execute_result"
    }
   ],
   "source": [
    "import os\n",
    "import pickle\n",
    "from langchain.vectorstores import FAISS\n",
    "from langchain.embeddings import HuggingFaceEmbeddings\n",
    "from langchain.document_loaders import UnstructuredURLLoader\n",
    "from langchain.chains import RetrievalQAWithSourcesChain\n",
    "from langchain.llms import HuggingFaceHub\n",
    "from langchain.text_splitter import RecursiveCharacterTextSplitter\n",
    "from langchain.document_loaders import WebBaseLoader\n",
    "from dotenv import load_dotenv\n",
    "\n",
    "# 🔹 Load environment variables (if needed)\n",
    "load_dotenv()\n",
    "hf_token = os.getenv(\"HUGGINGFACEHUB_API_TOKEN\")\n",
    "# 1️⃣ Load documents from web pages\n",
    "urls = [\n",
    "    # \"https://finance.yahoo.com/video/why-deepseek-ai-evolution-not-194500651.html\",\n",
    "    # \"https://finance.yahoo.com/personal-finance/banking/article/typical-budget-for-100000-salary-225021694.html\"\n",
    "    \"https://www.moneycontrol.com/news/business/banks/hdfc-bank-re-appoints-sanmoy-chakrabarti-as-chief-risk-officer-11259771.html\",\n",
    "    \"https://www.moneycontrol.com/news/business/markets/market-corrects-post-rbi-ups-inflation-forecast-icrr-bet-on-these-top-10-rate-sensitive-stocks-ideas-11142611.html\"\n",
    "]\n",
    "loader = WebBaseLoader(urls)\n",
    "docs = loader.load()\n",
    "\n",
    "# 2️⃣ Split documents into smaller chunks (improves retrieval)\n",
    "splitter = RecursiveCharacterTextSplitter(chunk_size=600, chunk_overlap=60)\n",
    "split_docs = splitter.split_documents(docs)\n",
    "len(split_docs)\n"
   ]
  },
  {
   "cell_type": "code",
   "execution_count": 10,
   "metadata": {},
   "outputs": [
    {
     "data": {
      "text/plain": [
       "Document(page_content='BuzzMC FeaturesMega Options FestivalMC LearnTECHNOLOGYPersonal TechAutoFintechMEDIAPodcastPhotosVideosWeb StoriesCRYPTOCURRENCYOTHERSEntertainmentSportsLifestyleHealth and FitnessEducationJobsScienceAstroReligionTravelBudgetBudget Top StoriesMarket ActionTax CalculatorTop GainersPersonal FinanceOpinionSectors in SpotlightPitch ReportRenewable EnergyEnergy Infra Markets Real estateInsurance Banking \\xa0Consumer Durables InfrastructureDefenceAgricultureAuto Jewellery Market NewsBudget Analysis ToolsTeam India BudgetHistory Of BudgetFAQBudget Breakdown: Earnings & Expenses (*BE 2024-25)State Of The', metadata={'source': 'https://www.moneycontrol.com/news/business/banks/hdfc-bank-re-appoints-sanmoy-chakrabarti-as-chief-risk-officer-11259771.html', 'title': 'HDFC Bank re-appoints Sanmoy Chakrabarti as Chief Risk Officer', 'description': 'Chakrabarti has been appointed for a period of five years from December 14, 2023 to December 13, 2028.', 'language': 'en'})"
      ]
     },
     "execution_count": 10,
     "metadata": {},
     "output_type": "execute_result"
    }
   ],
   "source": [
    "split_docs[4]"
   ]
  },
  {
   "cell_type": "code",
   "execution_count": 4,
   "metadata": {},
   "outputs": [
    {
     "name": "stderr",
     "output_type": "stream",
     "text": [
      "c:\\Users\\sebat\\Proyects\\equity_research_tool\\venv\\Lib\\site-packages\\tqdm\\auto.py:21: TqdmWarning: IProgress not found. Please update jupyter and ipywidgets. See https://ipywidgets.readthedocs.io/en/stable/user_install.html\n",
      "  from .autonotebook import tqdm as notebook_tqdm\n"
     ]
    }
   ],
   "source": [
    "# 3️⃣ Use an open-source embedding model (NO OpenAI)\n",
    "embedding_model = HuggingFaceEmbeddings(model_name=\"sentence-transformers/all-MiniLM-L6-v2\")\n",
    "\n",
    "# 4️⃣ Build FAISS vector index (local, no API calls)\n",
    "vector_index = FAISS.from_documents(split_docs, embedding_model)\n"
   ]
  },
  {
   "cell_type": "code",
   "execution_count": 7,
   "metadata": {},
   "outputs": [],
   "source": [
    "# 5️⃣ Save vector index to disk (so you don't recompute every time)\n",
    "with open(\"vector_index.pkl\", \"wb\") as f:\n",
    "    pickle.dump(vector_index, f)"
   ]
  },
  {
   "cell_type": "code",
   "execution_count": 8,
   "metadata": {},
   "outputs": [
    {
     "name": "stderr",
     "output_type": "stream",
     "text": [
      "c:\\Users\\sebat\\Proyects\\equity_research_tool\\venv\\Lib\\site-packages\\huggingface_hub\\utils\\_deprecation.py:131: FutureWarning: 'InferenceApi' (from 'huggingface_hub.inference_api') is deprecated and will be removed from version '1.0'. `InferenceApi` client is deprecated in favor of the more feature-complete `InferenceClient`. Check out this guide to learn how to convert your script to use it: https://huggingface.co/docs/huggingface_hub/guides/inference#legacy-inferenceapi-client.\n",
      "  warnings.warn(warning_message, FutureWarning)\n"
     ]
    }
   ],
   "source": [
    "\n",
    "# # 6️⃣ Load the vector index when needed\n",
    "# with open(\"vector_index.pkl\", \"rb\") as f:\n",
    "#     vector_index = pickle.load(f)\n",
    "\n",
    "# 7️⃣ Set up a local language model (LLM) to answer questions\n",
    "llm = HuggingFaceHub(repo_id=\"google/flan-t5-small\", model_kwargs={\"temperature\": 0.5})\n",
    "\n",
    "# 8️⃣ Create the QA Chain\n",
    "chain = RetrievalQAWithSourcesChain.from_llm(llm=llm, retriever=vector_index.as_retriever())\n",
    "\n"
   ]
  },
  {
   "cell_type": "code",
   "execution_count": 9,
   "metadata": {},
   "outputs": [
    {
     "name": "stderr",
     "output_type": "stream",
     "text": [
      "Token indices sequence length is longer than the specified maximum sequence length for this model (1782 > 1024). Running this sequence through the model will result in indexing errors\n"
     ]
    },
    {
     "name": "stdout",
     "output_type": "stream",
     "text": [
      "\n",
      "🔍 Answer:\n",
      "{'answer': 'iCNG', 'sources': ''}\n"
     ]
    }
   ],
   "source": [
    "# 9️⃣ Ask a question\n",
    "query = \"what is the price of Tiago iCNG?\"\n",
    "response = chain({\"question\": query}, return_only_outputs=True)\n",
    "\n",
    "print(\"\\n🔍 Answer:\")\n",
    "print(response)"
   ]
  }
 ],
 "metadata": {
  "kernelspec": {
   "display_name": "venv",
   "language": "python",
   "name": "python3"
  },
  "language_info": {
   "codemirror_mode": {
    "name": "ipython",
    "version": 3
   },
   "file_extension": ".py",
   "mimetype": "text/x-python",
   "name": "python",
   "nbconvert_exporter": "python",
   "pygments_lexer": "ipython3",
   "version": "3.11.9"
  }
 },
 "nbformat": 4,
 "nbformat_minor": 2
}
